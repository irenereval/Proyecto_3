{
 "cells": [
  {
   "cell_type": "markdown",
   "metadata": {},
   "source": [
    "# Modelo Black-Scholes"
   ]
  },
  {
   "cell_type": "markdown",
   "metadata": {},
   "source": [
    "Objetivo General\n",
    " - Utilizar el modelo matemático de Black - Scholes para la toma de decisiones financieras."
   ]
  },
  {
   "cell_type": "markdown",
   "metadata": {},
   "source": [
    "Objetivos Específico\n",
    " - Determinar el costo de una acción usando el modelo Black - Scholes"
   ]
  },
  {
   "cell_type": "markdown",
   "metadata": {},
   "source": [
    "## Modelo que representa el problema"
   ]
  },
  {
   "cell_type": "markdown",
   "metadata": {},
   "source": [
    " $ C = S.N(d1) - X.e ^-r.t . N(d2)$"
   ]
  },
  {
   "cell_type": "markdown",
   "metadata": {},
   "source": [
    "### Supuestos\n",
    "\n",
    ">- No hay costes de transacción o impuestos.\n",
    ">- La tasa de interés libre de riesgo es constante para todos los vencimientos.\n",
    ">- La acción no paga dividendos.\n",
    ">- La volatilidad se mantiene constante.\n",
    ">- Se permite la venta en corto.\n",
    ">- No hay oportunidades de arbitraje sin riesgo.\n",
    ">- Asume que la distribución de probabilidad de los retornos es una distribución normal."
   ]
  },
  {
   "cell_type": "markdown",
   "metadata": {},
   "source": [
    "## Simulaciones"
   ]
  },
  {
   "cell_type": "code",
   "execution_count": 45,
   "metadata": {},
   "outputs": [],
   "source": [
    "import numpy as np\n",
    "import scipy.stats as ss\n",
    "import matplotlib.pyplot as plt\n",
    "%matplotlib inline\n",
    "import time "
   ]
  },
  {
   "cell_type": "code",
   "execution_count": 46,
   "metadata": {},
   "outputs": [],
   "source": [
    "def d1(S0, K, r, sigma, T):\n",
    "    return (np.log(S0/K) + (r + sigma**2 / 2) * T)/(sigma * np.sqrt(T))"
   ]
  },
  {
   "cell_type": "code",
   "execution_count": 47,
   "metadata": {},
   "outputs": [],
   "source": [
    "def d2(S0, K, r, sigma, T):\n",
    "    return (np.log(S0 / K) + (r - sigma**2 / 2) * T) / (sigma * np.sqrt(T))"
   ]
  },
  {
   "cell_type": "code",
   "execution_count": 48,
   "metadata": {},
   "outputs": [],
   "source": [
    "S0 = 500\n",
    "K = 400\n",
    "r=1.1\n",
    "sigma = 0.30\n",
    "T = 0.25\n",
    "Otype='C'"
   ]
  },
  {
   "cell_type": "code",
   "execution_count": 49,
   "metadata": {},
   "outputs": [
    {
     "name": "stdout",
     "output_type": "stream",
     "text": [
      "S0 = Precio de la accion en el tiempo 0: 500\n",
      "K = Precio fijo: 400\n",
      "r = Tasa libre de riesgo: 1.1\n",
      "sigma = Volatilidad del precio: 0.3\n",
      "T = Periodo de vencimiento: 0.25\n"
     ]
    }
   ],
   "source": [
    "print (\"S0 = Precio de la accion en el tiempo 0:\", S0)\n",
    "print (\"K = Precio fijo:\", K)\n",
    "print (\"r = Tasa libre de riesgo:\", r)\n",
    "print (\"sigma = Volatilidad del precio:\", sigma)\n",
    "print (\"T = Periodo de vencimiento:\", T)\n"
   ]
  },
  {
   "cell_type": "code",
   "execution_count": 50,
   "metadata": {},
   "outputs": [
    {
     "data": {
      "text/plain": [
       "3.395957008761399"
      ]
     },
     "execution_count": 50,
     "metadata": {},
     "output_type": "execute_result"
    }
   ],
   "source": [
    "d1(S0 , K , r , sigma , T)"
   ]
  },
  {
   "cell_type": "code",
   "execution_count": 51,
   "metadata": {},
   "outputs": [
    {
     "data": {
      "text/plain": [
       "3.245957008761399"
      ]
     },
     "execution_count": 51,
     "metadata": {},
     "output_type": "execute_result"
    }
   ],
   "source": [
    "d2(S0 , K , r , sigma , T)"
   ]
  },
  {
   "cell_type": "code",
   "execution_count": 52,
   "metadata": {},
   "outputs": [],
   "source": [
    "def BlackScholes(type,S0, K, r, sigma, T):\n",
    "    if type==\"C\":\n",
    "        # Opcion C es una opcion de compra Europea\n",
    "        return S0 * ss.norm.cdf(d1(S0, K, r, sigma, T)) - K * np.exp(-r * T) * ss.norm.cdf(d2(S0, K, r, sigma, T))\n",
    "    else:\n",
    "        return K * np.exp(-r * T) * ss.norm.cdf(-d2(S0, K, r, sigma, T)) - S0 * ss.norm.cdf(-d1(S0, K, r, sigma, T))"
   ]
  },
  {
   "cell_type": "code",
   "execution_count": 53,
   "metadata": {},
   "outputs": [],
   "source": [
    "S0 = 500\n",
    "K = 400\n",
    "r=1.1\n",
    "sigma = 0.30\n",
    "T = 0.25\n",
    "Otype='C'"
   ]
  },
  {
   "cell_type": "code",
   "execution_count": 54,
   "metadata": {},
   "outputs": [
    {
     "name": "stdout",
     "output_type": "stream",
     "text": [
      "S0 = Precio de la accion en el tiempo 0: 500\n",
      "K = Precio fijo: 400\n",
      "r = Tasa libre de riesgo: 1.1\n",
      "sigma = Volatilidad del precio: 0.3\n",
      "T = Periodo de vencimiento: 0.25\n"
     ]
    }
   ],
   "source": [
    "print (\"S0 = Precio de la accion en el tiempo 0:\", S0)\n",
    "print (\"K = Precio fijo:\", K)\n",
    "print (\"r = Tasa libre de riesgo:\", r)\n",
    "print (\"sigma = Volatilidad del precio:\", sigma)\n",
    "print (\"T = Periodo de vencimiento:\", T)"
   ]
  },
  {
   "cell_type": "code",
   "execution_count": 64,
   "metadata": {},
   "outputs": [
    {
     "name": "stdout",
     "output_type": "stream",
     "text": [
      "BS\tBlack-Scholes price: 196.17800369074956 Elasticidad 0.002000570297241211\n"
     ]
    }
   ],
   "source": [
    "t=time.time()\n",
    "BS = BlackScholes(Otype,S0, K, r, sigma, T)\n",
    "elasticidad=time.time()-t\n",
    "print (\"BS\\tBlack-Scholes price:\", BS,\"Elasticidad\" , elasticidad)"
   ]
  },
  {
   "cell_type": "markdown",
   "metadata": {},
   "source": [
    "## Conclusiones "
   ]
  },
  {
   "cell_type": "markdown",
   "metadata": {
    "collapsed": true
   },
   "source": [
    "En conclusión la Ecuacion de Black - Scholes no es efectiva a la hora de  hacer predicciones. Se acerca al precio de la acción, pero en la actualidad ya no es un modelo efectivo a menos que se cumplan todos los supuestos."
   ]
  },
  {
   "cell_type": "markdown",
   "metadata": {},
   "source": [
    "## Bibliografía "
   ]
  },
  {
   "cell_type": "markdown",
   "metadata": {},
   "source": [
    "MacBeth, J. D., & Merville, L. J. (1980). Tests of the Black‐Scholes and Cox call option valuation models. The Journal of Finance."
   ]
  },
  {
   "cell_type": "code",
   "execution_count": null,
   "metadata": {},
   "outputs": [],
   "source": []
  },
  {
   "cell_type": "code",
   "execution_count": null,
   "metadata": {},
   "outputs": [],
   "source": []
  }
 ],
 "metadata": {
  "kernelspec": {
   "display_name": "Python 3",
   "language": "python",
   "name": "python3"
  },
  "language_info": {
   "codemirror_mode": {
    "name": "ipython",
    "version": 3
   },
   "file_extension": ".py",
   "mimetype": "text/x-python",
   "name": "python",
   "nbconvert_exporter": "python",
   "pygments_lexer": "ipython3",
   "version": "3.6.4"
  }
 },
 "nbformat": 4,
 "nbformat_minor": 2
}
